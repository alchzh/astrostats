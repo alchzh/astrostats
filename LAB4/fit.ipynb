{
 "cells": [
  {
   "cell_type": "code",
   "execution_count": 2,
   "metadata": {},
   "outputs": [
    {
     "name": "stdout",
     "output_type": "stream",
     "text": [
      "119  HARPS points;  122  HIRES points\n"
     ]
    }
   ],
   "source": [
    "import numpy as np\n",
    "import matplotlib.pyplot as plt\n",
    "from scipy.optimize import curve_fit\n",
    "\n",
    "# Get the data\n",
    "data1 = np.loadtxt(\"HARPS.dat\")\n",
    "data2 = np.loadtxt(\"HIRES.dat\")\n",
    "data = np.vstack((data1,data2))\n",
    "print len(data1),' HARPS points; ',len(data2),' HIRES points'\n",
    "\n",
    "# Add on jitter (additional noise term)\n",
    "jitter = 1.2\n",
    "for i in range(len(data)):\n",
    "    data[i,2] = np.sqrt( data[i,2]**2 + jitter**2 )\n",
    "\n",
    "# Initial information from Vogt et al. (2010)\n",
    "Pb_sol = 5.36841; Pb_del = 0.00026; Kb_sol = 12.45\n",
    "Pc_sol = 12.9191; Pc_del = 0.0058;  Kc_sol = 3.30\n",
    "Pd_sol = 66.87;   Pd_del = 0.13;    Kd_sol = 1.91\n",
    "Pe_sol = 3.14867; Pe_del = 0.00039; Ke_sol = 1.66\n",
    "Pf_sol = 433.0;   Pf_del = 13.0;    Kf_sol = 1.30\n",
    "Pg_sol = 36.562;  Pg_del = 0.052;   Kg_sol = 1.29"
   ]
  },
  {
   "cell_type": "code",
   "execution_count": 5,
   "metadata": {},
   "outputs": [
    {
     "name": "stdout",
     "output_type": "stream",
     "text": [
      "395.796125728 241\n"
     ]
    }
   ],
   "source": [
    "# A full fit is tricky because it's not obvious where to initalize the phases (q) from\n",
    "# So let's run a pre-fit first, wherXe we only allow the phases to vary\n",
    "# Trying running this a few times and make sure the same solution is coming out\n",
    "\n",
    "# Define model M0 fix = 4-planet model using K & P parameters fixed to the Vogt+ reported values\n",
    "def M0fix(t, qb, qc, qd, qe):\n",
    "    return Kb_sol*np.sin(2.0*np.pi*t/Pb_sol+qb) \\\n",
    "           + Kc_sol*np.sin(2.0*np.pi*t/Pc_sol+qc) \\\n",
    "           + Kd_sol*np.sin(2.0*np.pi*t/Pd_sol+qd) \\\n",
    "           + Ke_sol*np.sin(2.0*np.pi*t/Pe_sol+qe)\n",
    "\n",
    "# Define our parameters bounds\n",
    "param_bounds = ( [-2.0*np.pi, \\\n",
    "                  -2.0*np.pi, \\\n",
    "                  -2.0*np.pi, \\\n",
    "                  -2.0*np.pi],\\\n",
    "                 [2.0*np.pi, \\\n",
    "                  2.0*np.pi, \\\n",
    "                  2.0*np.pi, \\\n",
    "                  2.0*np.pi] )\n",
    "\n",
    "# Give an intial guess to help the fitting routine\n",
    "initial_guess = [ np.random.uniform(-np.pi,np.pi),\\\n",
    "                  np.random.uniform(-np.pi,np.pi),\\\n",
    "                  np.random.uniform(-np.pi,np.pi),\\\n",
    "                  np.random.uniform(-np.pi,np.pi)]\n",
    "\n",
    "# Get the best fitting parameters\n",
    "M0fix_best, M0fix_cov = curve_fit(M0fix,data[:,0],data[:,1],sigma=data[:,2],p0=initial_guess,bounds=param_bounds)\n",
    "\n",
    "# Get the chi2\n",
    "chi2 = 0.0\n",
    "for i in range(len(data)):\n",
    "    chi2 = chi2 + ( ( data[i,1] - M0fix( data[i,0],\\\n",
    "                                      M0fix_best[0],\\\n",
    "                                      M0fix_best[1],\\\n",
    "                                      M0fix_best[2],\\\n",
    "                                      M0fix_best[3]) ) / data[i,2])**2\n",
    "\n",
    "# Print output\n",
    "print chi2,len(data)"
   ]
  },
  {
   "cell_type": "code",
   "execution_count": 42,
   "metadata": {
    "collapsed": true
   },
   "outputs": [],
   "source": [
    "# OK, I'm satisfied the above chi2 looks reasonable, so set the phase solutions as initial guesses\n",
    "qb_sol = M0fix_best[0]\n",
    "qc_sol = M0fix_best[1]\n",
    "qd_sol = M0fix_best[2]\n",
    "qe_sol = M0fix_best[3]"
   ]
  },
  {
   "cell_type": "code",
   "execution_count": 45,
   "metadata": {},
   "outputs": [
    {
     "name": "stdout",
     "output_type": "stream",
     "text": [
      "390.394636635 -567.779618203\n"
     ]
    }
   ],
   "source": [
    "# Now we're ready to run the full 4-planet fit\n",
    "\n",
    "# Define model M0 = 4-planet model\n",
    "def M0(t, Kb, Pb, qb, Kc, Pc, qc, Kd, Pd, qd, Ke, Pe, qe):\n",
    "    return Kb*np.sin(2.0*np.pi*t/Pb+qb) \\\n",
    "           + Kc*np.sin(2.0*np.pi*t/Pc+qc) \\\n",
    "           + Kd*np.sin(2.0*np.pi*t/Pd+qd) \\\n",
    "           + Ke*np.sin(2.0*np.pi*t/Pe+qe)\n",
    "\n",
    "# Define our parameters bounds\n",
    "param_bounds = ( [0.0,  Pb_sol-3.0*Pb_del, -2.0*np.pi, \\\n",
    "                  0.0,  Pc_sol-3.0*Pc_del, -2.0*np.pi, \\\n",
    "                  0.0,  Pd_sol-3.0*Pd_del, -2.0*np.pi, \\\n",
    "                  0.0,  Pe_sol-3.0*Pe_del, -2.0*np.pi],\\\n",
    "                 [20.0, Pb_sol+3.0*Pb_del,  2.0*np.pi, \\\n",
    "                  20.0, Pc_sol+3.0*Pc_del,  2.0*np.pi, \\\n",
    "                  20.0, Pd_sol+3.0*Pd_del,  2.0*np.pi, \\\n",
    "                  20.0, Pe_sol+3.0*Pe_del,  2.0*np.pi] )\n",
    "\n",
    "# Give an intial guess to help the fitting routine\n",
    "initial_guess = [ Kb_sol, Pb_sol, qb_sol,\\\n",
    "                  Kc_sol, Pc_sol, qc_sol,\\\n",
    "                  Kd_sol, Pd_sol, qd_sol,\\\n",
    "                  Ke_sol, Pe_sol, qe_sol]\n",
    "\n",
    "# Get the best fitting parameters\n",
    "M0_best, M0_cov = curve_fit(M0,data[:,0],data[:,1],sigma=data[:,2],p0=initial_guess,bounds=param_bounds)\n",
    "\n",
    "# Get the chi2\n",
    "chi2 = 0.0\n",
    "for i in range(len(data)):\n",
    "    chi2 = chi2 + ( ( data[i,1] - M0( data[i,0],\\\n",
    "                                      M0_best[0],M0_best[1],M0_best[2],\\\n",
    "                                      M0_best[3],M0_best[4],M0_best[5],\\\n",
    "                                      M0_best[6],M0_best[7],M0_best[8],\\\n",
    "                                      M0_best[9],M0_best[10],M0_best[11]) ) / data[i,2])**2\n",
    "# Get the loglike\n",
    "loglike = -0.5*len(data)*np.log(2.0*np.pi) - np.sum( np.log(data[:,2]) ) - 0.5*chi2\n",
    "\n",
    "# Print output\n",
    "print chi2,loglike"
   ]
  }
 ],
 "metadata": {
  "anaconda-cloud": {},
  "kernelspec": {
   "display_name": "Python 3",
   "language": "python",
   "name": "python3"
  },
  "language_info": {
   "codemirror_mode": {
    "name": "ipython",
    "version": 3
   },
   "file_extension": ".py",
   "mimetype": "text/x-python",
   "name": "python",
   "nbconvert_exporter": "python",
   "pygments_lexer": "ipython3",
   "version": "3.7.0"
  }
 },
 "nbformat": 4,
 "nbformat_minor": 1
}
